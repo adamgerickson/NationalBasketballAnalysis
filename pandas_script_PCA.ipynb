{
 "cells": [
  {
   "cell_type": "code",
   "execution_count": 3,
   "metadata": {
    "collapsed": false
   },
   "outputs": [],
   "source": [
    "import pandas as pd\n",
    "import numpy as np\n",
    "import matplotlib.pyplot as plt\n",
    "\n",
    "## Below sets the plots to inline in the jupyter notebook\n",
    "#%matplotlib inline\n",
    "\n",
    "## Use the below for other matplotlib options\n",
    "#%matplotlib qt\n",
    "#%matplotlib notebook"
   ]
  },
  {
   "cell_type": "code",
   "execution_count": 4,
   "metadata": {
    "collapsed": false
   },
   "outputs": [],
   "source": [
    "df = pd.read_csv('data/stats.csv')\n",
    "df;"
   ]
  },
  {
   "cell_type": "code",
   "execution_count": 125,
   "metadata": {
    "collapsed": false
   },
   "outputs": [],
   "source": [
    "#Examples working with data frame\n",
    "df['name'];"
   ]
  },
  {
   "cell_type": "code",
   "execution_count": 9,
   "metadata": {
    "collapsed": false
   },
   "outputs": [],
   "source": [
    "plot_PCA(df)"
   ]
  },
  {
   "cell_type": "code",
   "execution_count": null,
   "metadata": {
    "collapsed": true
   },
   "outputs": [],
   "source": []
  },
  {
   "cell_type": "code",
   "execution_count": 10,
   "metadata": {
    "collapsed": true
   },
   "outputs": [],
   "source": [
    "''' For the following functions, \"df\" is a pandas data frame.\n",
    "    Function \"return_data_mat\" turns the data frame into numpy array with player name column removed.\n",
    "    \"return_names\" returns the names column of the players.\n",
    "'''\n",
    "\n",
    "def plot_PCA(data):\n",
    "    from matplotlib import pyplot as MPL\n",
    "    data_resc, data_orig, thirdthing = PCA(data)\n",
    "    col1, col2 = data_resc[:, 0], data_resc[:, 1] \n",
    "    names = return_names(data)\n",
    "    clr1 =  '#2026B2'\n",
    "    fig = MPL.figure()\n",
    "    ax1 = fig.add_subplot(111)\n",
    "    ax1.plot(col1, col2, '.', mfc=clr1, mec=clr1)\n",
    "    for i in range(len(col1)):\n",
    "        MPL.text(col1[i], col2[i], names[i], fontsize=8)        \n",
    "    MPL.show()\n",
    "    \n",
    "def PCA(data_frame, dims_rescaled_data=2):\n",
    "    \"\"\"\n",
    "    returns: data transformed in 2 dims/columns + regenerated original data\n",
    "    pass in: data as 2D NumPy array\n",
    "    \"\"\"\n",
    "    data = return_data_mat(data_frame)\n",
    "    from scipy import linalg as LA\n",
    "    m, n = data.shape\n",
    "    # mean center the data\n",
    "    data -= data.mean(axis=0)\n",
    "    # calculate the covariance matrix\n",
    "    R =np.cov(data, rowvar=False)\n",
    "    # calculate eigenvectors & eigenvalues of the covariance matrix\n",
    "    # use 'eigh' rather than 'eig' since R is symmetric, \n",
    "    # the performance gain is substantial\n",
    "    evals, evecs = LA.eigh(R)\n",
    "    # sort eigenvalue in decreasing order\n",
    "    idx = np.argsort(evals)[::-1]\n",
    "    evecs = evecs[:,idx]\n",
    "    # sort eigenvectors according to same index\n",
    "    evals = evals[idx]\n",
    "    # select the first n eigenvectors (n is desired dimension\n",
    "    # of rescaled data array, or dims_rescaled_data)\n",
    "    evecs = evecs[:, :dims_rescaled_data]\n",
    "    # carry out the transformation on the data using eigenvectors\n",
    "    # and return the re-scaled data, eigenvalues, and eigenvectors\n",
    "    return np.dot(evecs.T, data.T).T, evals, evecs\n",
    "\n",
    "def return_data_mat(df):\n",
    "    vals = df.values\n",
    "    trimvals = vals[:,1:]\n",
    "    data_mat = trimvals.astype(float)\n",
    "    return data_mat\n",
    "\n",
    "def return_names(df):\n",
    "    vals = df.values\n",
    "    names = (vals[:,0]).astype('str')\n",
    "    return names\n",
    "\n",
    "def test_PCA(data, dims_rescaled_data=2):\n",
    "    '''\n",
    "    test by attempting to recover original data array from\n",
    "    the eigenvectors of its covariance matrix & comparing that\n",
    "    'recovered' array with the original data\n",
    "    '''\n",
    "    _ , _ , eigenvectors = PCA(data, dim_rescaled_data=2)\n",
    "    data_recovered = np.dot(eigenvectors, m).T\n",
    "    data_recovered += data_recovered.mean(axis=0)\n",
    "    assert np.allclose(data, data_recovered)\n",
    "    \n",
    "    \n",
    "### These functions assisted by this link:\n",
    "# http://stackoverflow.com/questions/13224362/principal-component-analysis-pca-in-python"
   ]
  },
  {
   "cell_type": "code",
   "execution_count": null,
   "metadata": {
    "collapsed": true
   },
   "outputs": [],
   "source": []
  },
  {
   "cell_type": "code",
   "execution_count": null,
   "metadata": {
    "collapsed": true
   },
   "outputs": [],
   "source": []
  }
 ],
 "metadata": {
  "kernelspec": {
   "display_name": "Python 2",
   "language": "python",
   "name": "python2"
  },
  "language_info": {
   "codemirror_mode": {
    "name": "ipython",
    "version": 2
   },
   "file_extension": ".py",
   "mimetype": "text/x-python",
   "name": "python",
   "nbconvert_exporter": "python",
   "pygments_lexer": "ipython2",
   "version": "2.7.12"
  }
 },
 "nbformat": 4,
 "nbformat_minor": 0
}
