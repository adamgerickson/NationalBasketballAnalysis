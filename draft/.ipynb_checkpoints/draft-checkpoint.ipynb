{
 "cells": [
  {
   "cell_type": "code",
   "execution_count": null,
   "metadata": {
    "collapsed": false
   },
   "outputs": [],
   "source": [
    "%matplotlib inline\n",
    "import pandas as pd\n",
    "import numpy as np\n",
    "import matplotlib.pyplot as plt\n",
    "from sklearn.metrics import confusion_matrix\n",
    "from sklearn import svm\n",
    "import itertools\n",
    "from sklearn.metrics import confusion_matrix\n",
    "\n",
    "from sklearn.svm import SVR\n",
    "pd.set_option('display.max_rows', 500)\n"
   ]
  },
  {
   "cell_type": "markdown",
   "metadata": {},
   "source": [
    "## Join Data"
   ]
  },
  {
   "cell_type": "code",
   "execution_count": null,
   "metadata": {
    "collapsed": false
   },
   "outputs": [],
   "source": [
    "pre_draft = pd.read_csv(\"pre_draft_data_2002_to_2015.csv\")\n",
    "nba_stats = pd.read_csv(\"draft_data_2002_to_2015.csv\")\n",
    "rsci = pd.read_csv(\"rsci_2002_to_2015.csv\")[['rsci','id']]\n",
    "print nba_stats.columns\n",
    "# nba_stats = nba_stats[['Yrs', 'G', 'MP','BPM','id','WS','PTS','TRB']]\n",
    "nba_stats = nba_stats[['Yrs', 'G', 'MP','BPM','id','PTS']]\n",
    "\n",
    "# nba_stats.columns = ['nba_yrs', 'nba_gp',  'nba_mp','nba_bpm','id','ws','nba_pts','nba_trb']\n",
    "nba_stats.columns = ['nba_yrs', 'nba_gp',  'nba_mp','nba_bpm','id','nba_pts']\n",
    "df = pd.merge(pre_draft, nba_stats, on='id')\n",
    "df = df.merge(rsci,how='left', left_on='id',right_on = 'id')\n",
    "df['rsci'] = df['rsci'].fillna(150)\n",
    "df = df.drop_duplicates(['name'])\n",
    "df.columns"
   ]
  },
  {
   "cell_type": "markdown",
   "metadata": {},
   "source": [
    "# Classify Players into Bust (0) or not bust (1)"
   ]
  },
  {
   "cell_type": "code",
   "execution_count": null,
   "metadata": {
    "collapsed": false
   },
   "outputs": [],
   "source": [
    "# classify players into: \"Bust\",  \"bench\", \"Starter\", \"Star\n",
    "def classify_role(yrs, gp, minutes, nba_bpm, draft_yr,pts):\n",
    "    \n",
    "    \n",
    "    if (draft_yr < 2012 and (yrs < 5 and minutes / (gp * 1.0 + 1) < 20)) or (yrs == 0) or ((draft_yr >=  2012 and gp < yrs * 60) and (minutes / gp < 15)):\n",
    "        level = 0\n",
    "    else:\n",
    "        level = 1\n",
    "  \n",
    "\n",
    "    return level\n",
    "\n",
    "\n",
    "df['class']  = df.apply(lambda row: classify_role(row['nba_yrs'],row['nba_gp'], \n",
    "                                                        row['nba_mp'], row['nba_bpm'],row['Draft_Yr'],row['nba_pts'] ), axis=1)\n",
    "\n",
    "# Percentage of first round picks that bust!\n",
    "# a = df['class'] == 0\n",
    "a = df['class']\n",
    "b = df['Pk'] > 30\n",
    "c = df['Pk'] <31\n",
    "dat = pd.DataFrame(zip(a,c,b))\n",
    "dat.columns = ['class', 'first', 'second']\n",
    "\n",
    "print \"Percentage of all draftees that stick in the NBA:\", len(dat[dat['class'] != 0]) / (1.0 * len(a))\n",
    "print \"first rounder success %\", len(dat[(dat['first'] == 1) & (dat['class'] != 0)]) / (1.0 * len(dat[dat['first'] == 1]))\n",
    "print \"second rounder success %\", len(dat[(dat['second'] == 1) & (dat['class'] != 0)]) / (1.0 * len(dat[dat['second'] == 1]))\n"
   ]
  },
  {
   "cell_type": "markdown",
   "metadata": {},
   "source": [
    "# Data - pull out relevant columns for prediction"
   ]
  },
  {
   "cell_type": "code",
   "execution_count": null,
   "metadata": {
    "collapsed": false
   },
   "outputs": [],
   "source": [
    "x_cols = ['height','weight','wing_span','standing_reach','body_fat','no_step_vert','max_vert','gp', 'min', 'pts', 'fg',\n",
    "       'fga', 'fg_perc', '2pt', '2pta', '2p_perc', '3pt', '3pta',\n",
    "       '3p_perc', 'FTM', 'FTA', 'FT_perc', 'off_reb', 'def_reb',\n",
    "       'tot_reb', 'ast', 'stl', 'blks', 'to', 'pf']\n",
    "X = df[x_cols]\n",
    "\n",
    "names = df[['name']]\n",
    "c = df['class']\n"
   ]
  },
  {
   "cell_type": "markdown",
   "metadata": {},
   "source": [
    "# SVM  Cross-validate to choose best kernel, c, and gamma\n"
   ]
  },
  {
   "cell_type": "code",
   "execution_count": null,
   "metadata": {
    "collapsed": false,
    "scrolled": false
   },
   "outputs": [],
   "source": [
    "from sklearn import svm, datasets\n",
    "from sklearn import model_selection\n",
    "parameters = {'kernel':('linear', 'rbf'), 'C':[.1, .5, 1, 10],'gamma':[.0001,.0005,.0001,.01,.1,]}\n",
    "svr = svm.SVC()\n",
    "clf = model_selection.GridSearchCV(svr, parameters, scoring = \"average_precision\")\n",
    "clf.fit(X, c)\n"
   ]
  },
  {
   "cell_type": "code",
   "execution_count": null,
   "metadata": {
    "collapsed": false
   },
   "outputs": [],
   "source": [
    "M = svm.SVC(gamma = clf.best_params_['gamma'], C = clf.best_params_['C'], kernel = clf.best_params_['kernel'],probability=True)\n",
    "M.fit(X, c)\n",
    "M.predict_proba(X)"
   ]
  },
  {
   "cell_type": "code",
   "execution_count": null,
   "metadata": {
    "collapsed": false
   },
   "outputs": [],
   "source": [
    "df['odds'] = [p[1] for p in M.predict_proba(X)]\n",
    "# X[['name', 'odds', 'nba_bpm']]"
   ]
  },
  {
   "cell_type": "code",
   "execution_count": null,
   "metadata": {
    "collapsed": false
   },
   "outputs": [],
   "source": [
    "df[['name', 'odds', 'Pk']][df['Pk'] > 30].sort(['odds'], ascending=[0])\n"
   ]
  },
  {
   "cell_type": "markdown",
   "metadata": {},
   "source": [
    "# 10-fold Cross-validate to evaluate the model using parameters found above"
   ]
  },
  {
   "cell_type": "code",
   "execution_count": null,
   "metadata": {
    "collapsed": false
   },
   "outputs": [],
   "source": [
    "from sklearn.tree import DecisionTreeClassifier, export_graphviz\n",
    "from scipy.io import loadmat as load\n",
    "from numpy import argsort, reshape, transpose, array, zeros,delete\n",
    "from matplotlib.pyplot import imshow, xlabel, ylabel, title, figure, savefig\n",
    "from numpy.random import permutation, seed\n",
    "from pydotplus import graph_from_dot_data\n",
    "from sklearn.externals.six import StringIO \n",
    "\n",
    "\n",
    "x = X[:]\n",
    "w = h = 2\n",
    "k = 10\n",
    "correct = 0\n",
    "conf = [[0 for x_ in range(w)] for y_ in range(h)]\n",
    "round_1_correct = 0\n",
    "round_1_conf = [[0 for x_ in range(w)] for y_ in range(h)]\n",
    "round_2_correct = 0\n",
    "round_2_conf = [[0 for x_ in range(w)] for y_ in range(h)]\n",
    "\n",
    "seed(3)\n",
    "x_ = permutation(x[:])\n",
    "seed(3)\n",
    "Y = permutation(c[:])\n",
    "pick = list(df['Pk'])[:]\n",
    "seed(3)\n",
    "pick = permutation(pick[:])\n",
    "\n",
    "\n",
    "split_size = len(Y) * 1.0 / k\n",
    "folds = [i for i in range(k) for _ in range(int(split_size))]\n",
    "num_bigger_sets = len(Y) - len(folds)\n",
    "if num_bigger_sets != 0:\n",
    "    first = [i for i in range(k - num_bigger_sets) for _ in range(int(split_size))]\n",
    "    second = [i + (k - num_bigger_sets) for i in range(num_bigger_sets) for _ in range(int(split_size + 1))] \n",
    "    folds = first + second\n",
    "\n",
    "\n",
    "for j in range(k):\n",
    "    X_train = [row for row, f, in zip(x_,folds) if f != j]\n",
    "    Y_train = [val for val, f in zip(Y,folds) if f != j]\n",
    "\n",
    "    X_test = [row for row, f in zip(x_,folds) if f == j]\n",
    "    Y_test = [val for val, f in zip(Y,folds) if f == j]\n",
    "    \n",
    "    rnd = [p for p, f in zip(pick,folds) if f == j]\n",
    "    rnd = [1 if p < 31 else 2 for p in rnd]\n",
    "\n",
    "    \n",
    "    M = svm.SVC(gamma = clf.best_params_['gamma'], C = clf.best_params_['C'], kernel = clf.best_params_['kernel'],probability=True)\n",
    "    M = M.fit(X_train, Y_train)\n",
    "\n",
    "    predicted = M.predict(X_test) \n",
    "    for i in range(len(predicted)):\n",
    "        if predicted[i] == Y_test[i]:\n",
    "            correct += 1\n",
    "        conf[Y_test[i]][predicted[i]] += 1\n",
    "        \n",
    "        if rnd[i] == 1:\n",
    "            if predicted[i] == Y_test[i]:\n",
    "                round_1_correct += 1\n",
    "            round_1_conf[Y_test[i]][predicted[i]] += 1\n",
    "        else:\n",
    "            if predicted[i] == Y_test[i]:\n",
    "                round_2_correct += 1\n",
    "            round_2_conf[Y_test[i]][predicted[i]] += 1\n"
   ]
  },
  {
   "cell_type": "code",
   "execution_count": null,
   "metadata": {
    "collapsed": false
   },
   "outputs": [],
   "source": [
    "from sklearn.metrics import classification_report\n",
    "print \"gamma\", clf.best_params_['gamma'], \"C\", clf.best_params_['C'], \"kernel\", clf.best_params_['kernel']\n",
    "print \"Bust Precision\", conf[0][0] / (1.0 * (conf[0][0] + conf[1][0]))\n",
    "print \"Player Precision\", conf[1][1] / (1.0 * (conf[0][1] + conf[1][1]))\n",
    "\n",
    "num_classes = 2\n",
    "classes = range(num_classes)\n",
    "class_names = [\"Bust\", \"Player\"]\n",
    "title = \"SVM Confusion Matrix\"\n",
    "\n",
    "thresh = max([max(conf[0]), max(conf[1])]) / 2\n",
    "imshow(conf,interpolation='nearest', cmap=plt.cm.Reds)\n",
    "for i, j in itertools.product(classes, classes):\n",
    "        plt.text(j, i, conf[i][j],\n",
    "                 horizontalalignment=\"center\",\n",
    "                 color=\"white\" if conf[i][j] > thresh else \"black\")\n",
    "\n",
    "tick_marks = np.arange(num_classes)\n",
    "plt.xticks(tick_marks, class_names, rotation=0)\n",
    "plt.yticks(tick_marks, class_names)\n",
    "plt.tight_layout()\n",
    "plt.ylabel('True label')\n",
    "plt.xlabel('Predicted label')\n",
    "plt.title(title)\n",
    "plt.show()\n",
    "\n"
   ]
  },
  {
   "cell_type": "code",
   "execution_count": null,
   "metadata": {
    "collapsed": false
   },
   "outputs": [],
   "source": [
    "from sklearn.ensemble import RandomForestClassifier\n",
    "from sklearn.naive_bayes import GaussianNB\n",
    "from sklearn.neural_network import MLPClassifier\n",
    "from sklearn.neighbors import KNeighborsClassifier\n",
    "\n",
    "classifiers = []\n",
    "\n",
    "parameters = {'kernel':('linear', 'rbf'), 'C':[.1, .5, 1, 10],'gamma':[.000005,.00001,.0001,.0005,.001,.01,.1,]}\n",
    "estimator = svm.SVC\n",
    "name = \"Support Vector Machine\"\n",
    "classifiers.append((parameters,estimator,name))\n",
    "\n",
    "parameters = {'n_estimators':[5,10,15,20],'criterion':('gini', 'entropy')}\n",
    "estimator = RandomForestClassifier\n",
    "name = \"Random Forest\"\n",
    "classifiers.append((parameters,estimator,name))\n",
    "\n",
    "parameters = {}\n",
    "estimator = GaussianNB\n",
    "name = \"Naive Bayes\"\n",
    "classifiers.append((parameters,estimator,name))\n",
    "\n",
    "parameters = {'n_neighbors':[3,5,10,15,20],'weights':('uniform', 'distance'), 'algorithm':('ball_tree', 'kd_tree'), 'metric':('chebyshev', 'euclidean')}\n",
    "estimator = KNeighborsClassifier\n",
    "name = \"K Nearest Neighbors\"\n",
    "classifiers.append((parameters,estimator,name))\n",
    "\n",
    "for classifier in classifiers:\n",
    "    parameters = classifier[0]\n",
    "    estimator = classifier[1]\n",
    "    name = classifier[2]\n",
    "    \n",
    "    svr = estimator()\n",
    "    clf = model_selection.GridSearchCV(svr, parameters, scoring = \"average_precision\")\n",
    "    clf.fit(X, c)\n",
    "\n",
    "    x = X[:]\n",
    "    w = h = 2\n",
    "    k = 10\n",
    "    correct = 0\n",
    "    conf = [[0 for x_ in range(w)] for y_ in range(h)]\n",
    "    round_1_correct = 0\n",
    "    round_1_conf = [[0 for x_ in range(w)] for y_ in range(h)]\n",
    "    round_2_correct = 0\n",
    "    round_2_conf = [[0 for x_ in range(w)] for y_ in range(h)]\n",
    "\n",
    "    seed(3)\n",
    "    x_ = permutation(x[:])\n",
    "    seed(3)\n",
    "    Y = permutation(c[:])\n",
    "    pick = list(df['Pk'])[:]\n",
    "    seed(3)\n",
    "    pick = permutation(pick[:])\n",
    "\n",
    "\n",
    "    split_size = len(Y) * 1.0 / k\n",
    "    folds = [i for i in range(k) for _ in range(int(split_size))]\n",
    "    num_bigger_sets = len(Y) - len(folds)\n",
    "    if num_bigger_sets != 0:\n",
    "        first = [i for i in range(k - num_bigger_sets) for _ in range(int(split_size))]\n",
    "        second = [i + (k - num_bigger_sets) for i in range(num_bigger_sets) for _ in range(int(split_size + 1))] \n",
    "        folds = first + second\n",
    "\n",
    "\n",
    "    for j in range(k):\n",
    "        X_train = [row for row, f, in zip(x_,folds) if f != j]\n",
    "        Y_train = [val for val, f in zip(Y,folds) if f != j]\n",
    "\n",
    "        X_test = [row for row, f in zip(x_,folds) if f == j]\n",
    "        Y_test = [val for val, f in zip(Y,folds) if f == j]\n",
    "\n",
    "        rnd = [p for p, f in zip(pick,folds) if f == j]\n",
    "        rnd = [1 if p < 31 else 2 for p in rnd]\n",
    "\n",
    "\n",
    "        M = estimator(**clf.best_params_)\n",
    "        M = M.fit(X_train, Y_train)\n",
    "\n",
    "        predicted = M.predict(X_test) \n",
    "        for i in range(len(predicted)):\n",
    "            if predicted[i] == Y_test[i]:\n",
    "                correct += 1\n",
    "            conf[Y_test[i]][predicted[i]] += 1\n",
    "\n",
    "            if rnd[i] == 1:\n",
    "                if predicted[i] == Y_test[i]:\n",
    "                    round_1_correct += 1\n",
    "                round_1_conf[Y_test[i]][predicted[i]] += 1\n",
    "            else:\n",
    "                if predicted[i] == Y_test[i]:\n",
    "                    round_2_correct += 1\n",
    "                round_2_conf[Y_test[i]][predicted[i]] += 1\n",
    "\n",
    "    print \"best params\", clf.best_params_.keys(),clf.best_params_.values()\n",
    "    print \"Bust Precision\", conf[0][0] / (1.0 * (conf[0][0] + conf[1][0]))\n",
    "    print \"Player Precision\", conf[1][1] / (1.0 * (conf[0][1] + conf[1][1]))\n",
    "\n",
    "    num_classes = 2\n",
    "    classes = range(num_classes)\n",
    "    class_names = [\"Bust\", \"Player\"]\n",
    "    title =  name + \" Confusion Matrix\"\n",
    "\n",
    "    thresh = max([max(conf[0]), max(conf[1])]) / 2\n",
    "    imshow(conf,interpolation='nearest', cmap=plt.cm.Reds)\n",
    "    for i, j in itertools.product(classes, classes):\n",
    "            plt.text(j, i, conf[i][j],\n",
    "                     horizontalalignment=\"center\",\n",
    "                     color=\"white\" if conf[i][j] > 110 else \"black\")\n",
    "\n",
    "    tick_marks = np.arange(num_classes)\n",
    "    plt.xticks(tick_marks, class_names, rotation=0)\n",
    "    plt.yticks(tick_marks, class_names)\n",
    "    plt.tight_layout()\n",
    "    plt.ylabel('True label')\n",
    "    plt.xlabel('Predicted label')\n",
    "    plt.title(title)\n",
    "    plt.show()\n",
    "\n"
   ]
  },
  {
   "cell_type": "code",
   "execution_count": null,
   "metadata": {
    "collapsed": false
   },
   "outputs": [],
   "source": [
    "from sklearn.tree import DecisionTreeClassifier\n",
    "\n",
    "classifier = DecisionTreeClassifier(criterion='entropy', splitter='best')\n",
    "classifier.fit(x, c)\n",
    " \n",
    "results = []\n",
    "for title, feat in zip(x_cols, classifier.feature_importances_):\n",
    "    results.append((title, feat))\n",
    " \n",
    "results.sort(key=lambda x: x[1], reverse=True)\n",
    " \n",
    "for x in results:\n",
    "    print(x)"
   ]
  },
  {
   "cell_type": "code",
   "execution_count": null,
   "metadata": {
    "collapsed": true
   },
   "outputs": [],
   "source": []
  }
 ],
 "metadata": {
  "kernelspec": {
   "display_name": "Python 2",
   "language": "python",
   "name": "python2"
  },
  "language_info": {
   "codemirror_mode": {
    "name": "ipython",
    "version": 2
   },
   "file_extension": ".py",
   "mimetype": "text/x-python",
   "name": "python",
   "nbconvert_exporter": "python",
   "pygments_lexer": "ipython2",
   "version": "2.7.9"
  }
 },
 "nbformat": 4,
 "nbformat_minor": 0
}
