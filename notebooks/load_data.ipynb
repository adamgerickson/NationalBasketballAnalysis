{
 "cells": [
  {
   "cell_type": "code",
   "execution_count": 1,
   "metadata": {
    "collapsed": true,
    "outputExpanded": false
   },
   "outputs": [],
   "source": [
    "#Import Packages\n",
    "\n",
    "import pandas as pd\n",
    "import numpy as np"
   ]
  },
  {
   "cell_type": "code",
   "execution_count": 10,
   "metadata": {
    "collapsed": false,
    "outputExpanded": false
   },
   "outputs": [],
   "source": [
    "#Load Data from CSV\n",
    "\n",
    "dfload = pd.read_csv('data/stats.csv')\n",
    "dfload = sort_columns_type(dfload)\n",
    "dfload;"
   ]
  },
  {
   "cell_type": "code",
   "execution_count": 11,
   "metadata": {
    "collapsed": false,
    "outputExpanded": false
   },
   "outputs": [],
   "source": [
    "#Remove players who have played less than 100 games\n",
    "\ndfload = dfload.query(\"g> 100\")"
   ]
  },
  {
   "cell_type": "code",
   "execution_count": 12,
   "metadata": {
    "collapsed": true,
    "outputExpanded": false
   },
   "outputs": [],
   "source": [
    "#Shane's list for style\n",
    "\n",
    "shanelist = ['name', 'season', 'team_id', 'pos', 'pf_per_poss',\n",
    "'mp_per_g',\n",
    "'pct_fg2_dunk',\n",
    "'fg3a_pct_fga',\n",
    "'blk_pct',\n",
    "'stl_pct',\n",
    "'usg_pct',\n",
    "'fta_per_poss',\n",
    "'orb_pct',\n",
    "'ast_pct',\n",
    "'tov_pct',\n",
    "'fg2_pct_ast',\n",
    "'fg3_pct_ast',\n",
    "'fg3_pct',\n",
    "'fg3a_per_fga_pct',\n",
    "'fg2a_pct_fga',\n",
    "'fta_per_fga_pct',\n",
    "'fg_pct_00_03',\n",
    "'fg_pct_03_10',\n",
    "'fg_pct_10_16',\n",
    "'fg_pct_16_xx',\n",
    "'pct_fg3a_corner',\n",
    "'pct_fga_00_03',\n",
    "'pct_fga_03_10',\n",
    "'pct_fga_10_16',\n",
    "'pct_fga_16_xx',\n",
    "'fg3_pct_corner']\n",
    "\ndf = dfload[shanelist]"
   ]
  },
  {
   "cell_type": "code",
   "execution_count": 15,
   "metadata": {
    "collapsed": true,
    "outputExpanded": false
   },
   "outputs": [],
   "source": [
    "#Fill in null values\n",
    "\ndf = df.fillna(float(1.0))"
   ]
  },
  {
   "cell_type": "markdown",
   "metadata": {
    "outputExpanded": false
   },
   "source": [
    "# Functions Below"
   ]
  },
  {
   "cell_type": "code",
   "execution_count": 3,
   "metadata": {
    "collapsed": true,
    "outputExpanded": false
   },
   "outputs": [],
   "source": [
    "def is_zero(df):\n",
    "    a = df\n",
    "    b = []\n",
    "    for i in df.columns:\n",
    "        lit = i + \" == 0.0\"\n",
    "        b.append((i, a.query(lit)))\n",
    "    #print out list  \n",
    "    for j in b:\n",
    "        print (j[0], (j[1].shape)[0])\n",
    "\n",
    "#### [pandas <----> numpy] functions \n",
    "\n",
    "''' For the following functions, \"df\" is a pandas data frame.\n",
    "    Function \"return_data_mat\" turns the data frame into numpy array with player name column removed.\n",
    "    Function \"return_names\" returns the names column of the players.'''\n",
    "\n",
    "def return_data_mat(df):\n",
    "    vals = df.values\n",
    "    trimvals = delete_nonquant_cols(vals)\n",
    "    data_mat = trimvals.astype(float)\n",
    "    return data_mat\n",
    "\n",
    "def return_names(df):\n",
    "    names = np.array(df['name']).astype(str)\n",
    "    return names\n",
    "\n",
    "def print_full(x):\n",
    "    pd.set_option('display.max_rows', len(x))\n",
    "    print(x)\n",
    "    pd.reset_option('display.max_rows')\n",
    "\n",
    "#### pandas functions\n",
    "\n",
    "def sort_columns_type(df):\n",
    "   \n",
    "    #get idx for string columns\n",
    "    vals = df.values\n",
    "    idx = get_idx_str_cols(vals)\n",
    "    \n",
    "    #get column list and sort it    \n",
    "    cols = (df.columns).tolist()\n",
    "    str_cols = [cols[i] for i in idx]\n",
    " \n",
    "    for x in str_cols:\n",
    "        cols.remove(x)\n",
    "    cols = str_cols + cols\n",
    "    \n",
    "    # sort new data frame based on new column ordering\n",
    "    newdf = df[cols]\n",
    "    return newdf\n",
    "\n",
    "def get_idx_str_cols(arr):\n",
    "    \n",
    "    #get indicies of non-quantitative columns\n",
    "    idxlist = []\n",
    "    m, n = arr.shape\n",
    "    for i in range(m):\n",
    "        for j in range(n):\n",
    "            if (type(arr[i,j]) == str):\n",
    "                idxlist.append(j)\n",
    "    idxset = set(idxlist)\n",
    "    idx = list(idxset)\n",
    "    idx.sort()\n",
    "    return idx\n",
    "\n",
    "def delete_nonquant_cols(arr):\n",
    "    \n",
    "    m, n = arr.shape\n",
    "    idx = get_idx_str_cols(arr)\n",
    "        \n",
    "    #create a mask with a \"False\" for each column not desired       \n",
    "    mask = np.ones(n, dtype=bool)\n",
    "    mask[idx] = False\n",
    "    \n",
    "    #index through arr with the mask\n",
    "    result = arr[:,mask]\n",
    "    \n",
    "    #testing that only numbers remain\n",
    "    a, b = result.shape\n",
    "    for i in range(a):\n",
    "        for j in range(b):\n",
    "            g = type(result[i,j])\n",
    "            assert (g is float or g is long or g is int or g is complex) \n",
    "    \n",
    "    return result"
   ]
  },
  {
   "cell_type": "code",
   "execution_count": null,
   "metadata": {
    "collapsed": true,
    "outputExpanded": false
   },
   "outputs": [],
   "source": []
  }
 ],
 "metadata": {
  "kernelspec": {
   "name": "python2",
   "language": "python",
   "display_name": "Python 2"
  },
  "language_info": {
   "mimetype": "text/x-python",
   "nbconvert_exporter": "python",
   "name": "python",
   "pygments_lexer": "ipython2",
   "version": "2.7.12",
   "file_extension": ".py",
   "codemirror_mode": {
    "version": 2,
    "name": "ipython"
   }
  },
  "kernel_info": {
   "name": "python2"
  }
 },
 "nbformat": 4,
 "nbformat_minor": 1
}